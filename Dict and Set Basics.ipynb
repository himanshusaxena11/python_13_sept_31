{
 "cells": [
  {
   "cell_type": "code",
   "execution_count": 1,
   "id": "8a51df35",
   "metadata": {},
   "outputs": [],
   "source": [
    "#wap to make empty dict\n",
    "x={}"
   ]
  },
  {
   "cell_type": "code",
   "execution_count": 2,
   "id": "fd0ee4fb",
   "metadata": {},
   "outputs": [
    {
     "data": {
      "text/plain": [
       "dict"
      ]
     },
     "execution_count": 2,
     "metadata": {},
     "output_type": "execute_result"
    }
   ],
   "source": [
    "type(x)"
   ]
  },
  {
   "cell_type": "code",
   "execution_count": 3,
   "id": "ee615d4e",
   "metadata": {},
   "outputs": [],
   "source": [
    "#wap to make single element dict\n",
    "y={'grades':['a']}"
   ]
  },
  {
   "cell_type": "code",
   "execution_count": 4,
   "id": "bc6bc6aa",
   "metadata": {},
   "outputs": [
    {
     "data": {
      "text/plain": [
       "dict"
      ]
     },
     "execution_count": 4,
     "metadata": {},
     "output_type": "execute_result"
    }
   ],
   "source": [
    "type(y)"
   ]
  },
  {
   "cell_type": "code",
   "execution_count": 5,
   "id": "b828ad0a",
   "metadata": {},
   "outputs": [],
   "source": [
    "z={'age':(56,89,23),\n",
    "  'name':['a','b','c'],\n",
    "  }"
   ]
  },
  {
   "cell_type": "code",
   "execution_count": 6,
   "id": "688d1dc6",
   "metadata": {},
   "outputs": [
    {
     "data": {
      "text/plain": [
       "{'age': (56, 89, 23), 'name': ['a', 'b', 'c']}"
      ]
     },
     "execution_count": 6,
     "metadata": {},
     "output_type": "execute_result"
    }
   ],
   "source": [
    "z"
   ]
  },
  {
   "cell_type": "code",
   "execution_count": 7,
   "id": "d498e445",
   "metadata": {},
   "outputs": [],
   "source": [
    "g=z.copy()"
   ]
  },
  {
   "cell_type": "code",
   "execution_count": 8,
   "id": "27d2d114",
   "metadata": {},
   "outputs": [
    {
     "data": {
      "text/plain": [
       "{'age': (56, 89, 23), 'name': ['a', 'b', 'c']}"
      ]
     },
     "execution_count": 8,
     "metadata": {},
     "output_type": "execute_result"
    }
   ],
   "source": [
    "g"
   ]
  },
  {
   "cell_type": "code",
   "execution_count": 9,
   "id": "8284c106",
   "metadata": {},
   "outputs": [
    {
     "data": {
      "text/plain": [
       "{'age': (56, 89, 23), 'name': ['a', 'b', 'c']}"
      ]
     },
     "execution_count": 9,
     "metadata": {},
     "output_type": "execute_result"
    }
   ],
   "source": [
    "z"
   ]
  },
  {
   "cell_type": "code",
   "execution_count": 11,
   "id": "3d5a9849",
   "metadata": {},
   "outputs": [],
   "source": [
    "k={'age':(56,89,23),\n",
    "  'name':['a','b','c'],\n",
    "   'blood group':('B','O','A')\n",
    "  }"
   ]
  },
  {
   "cell_type": "code",
   "execution_count": 15,
   "id": "da7aa02a",
   "metadata": {},
   "outputs": [
    {
     "data": {
      "text/plain": [
       "'O'"
      ]
     },
     "execution_count": 15,
     "metadata": {},
     "output_type": "execute_result"
    }
   ],
   "source": [
    "k.get('blood group')[1]"
   ]
  },
  {
   "cell_type": "markdown",
   "id": "ed9eee9f",
   "metadata": {},
   "source": [
    "# Set"
   ]
  },
  {
   "cell_type": "code",
   "execution_count": 18,
   "id": "ce302a1d",
   "metadata": {},
   "outputs": [],
   "source": [
    "a={52,89,'hello','world',-7,-67,12,22}"
   ]
  },
  {
   "cell_type": "code",
   "execution_count": 19,
   "id": "2496e5e5",
   "metadata": {},
   "outputs": [
    {
     "data": {
      "text/plain": [
       "{-67, -7, 12, 22, 52, 89, 'hello', 'world'}"
      ]
     },
     "execution_count": 19,
     "metadata": {},
     "output_type": "execute_result"
    }
   ],
   "source": [
    "a"
   ]
  },
  {
   "cell_type": "code",
   "execution_count": null,
   "id": "1cb46ac4",
   "metadata": {},
   "outputs": [],
   "source": [
    "#immutable\n",
    "#unordered\n"
   ]
  }
 ],
 "metadata": {
  "kernelspec": {
   "display_name": "Python 3 (ipykernel)",
   "language": "python",
   "name": "python3"
  },
  "language_info": {
   "codemirror_mode": {
    "name": "ipython",
    "version": 3
   },
   "file_extension": ".py",
   "mimetype": "text/x-python",
   "name": "python",
   "nbconvert_exporter": "python",
   "pygments_lexer": "ipython3",
   "version": "3.9.12"
  }
 },
 "nbformat": 4,
 "nbformat_minor": 5
}
